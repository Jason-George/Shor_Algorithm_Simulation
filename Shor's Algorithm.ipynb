{
 "cells": [
  {
   "cell_type": "code",
   "execution_count": 1,
   "metadata": {},
   "outputs": [],
   "source": [
    "import numpy as np\n",
    "import random\n",
    "import math"
   ]
  },
  {
   "cell_type": "markdown",
   "metadata": {},
   "source": [
    "### 1\n",
    "##### Select two numbers P and Q (both should be Prime) or select one number 'N', whose factors(two prime numers) we have to find"
   ]
  },
  {
   "cell_type": "code",
   "execution_count": 13,
   "metadata": {},
   "outputs": [
    {
     "name": "stdout",
     "output_type": "stream",
     "text": [
      "297\n"
     ]
    }
   ],
   "source": [
    "p = 11\n",
    "q = 27\n",
    "N = p * q\n",
    "print(N)"
   ]
  },
  {
   "cell_type": "markdown",
   "metadata": {},
   "source": [
    "#### If  p & q is selected, and they're prime numbers, then N, should have only those two numbers as its factor.."
   ]
  },
  {
   "cell_type": "markdown",
   "metadata": {},
   "source": [
    "\n",
    "#### 2. Select a random number 'a' between 1 & N."
   ]
  },
  {
   "cell_type": "code",
   "execution_count": 59,
   "metadata": {},
   "outputs": [
    {
     "name": "stdout",
     "output_type": "stream",
     "text": [
      "100\n"
     ]
    }
   ],
   "source": [
    "a = random.randint(1,N)\n",
    "print(a)"
   ]
  },
  {
   "cell_type": "markdown",
   "metadata": {},
   "source": [
    "#### 3. If we find the Greatest common denominator(GCD), between 'a'  and 'N' to be other than 1, then we have found one of the factors of N, otherwise 'a' is a good choice for further process.."
   ]
  },
  {
   "cell_type": "code",
   "execution_count": 60,
   "metadata": {},
   "outputs": [
    {
     "name": "stdout",
     "output_type": "stream",
     "text": [
      "GCD: 1\n",
      "No common factors between 297 and 100\n"
     ]
    }
   ],
   "source": [
    "g = math.gcd(a,N)\n",
    "print('GCD:', g)\n",
    "if g != 1:\n",
    "    print('One of the Factor of N is', g)\n",
    "else:\n",
    "    print('No common factors between {} and {}'.format(N,a))"
   ]
  },
  {
   "cell_type": "markdown",
   "metadata": {},
   "source": [
    "### Find period between of a mod N\n",
    "\n",
    "### This is where Quantum Computing comes in"
   ]
  },
  {
   "cell_type": "code",
   "execution_count": 61,
   "metadata": {},
   "outputs": [
    {
     "name": "stdout",
     "output_type": "stream",
     "text": [
      "period: 3\n"
     ]
    }
   ],
   "source": [
    "#Compute the period of a mod N\n",
    "counter = 0\n",
    "period = 0\n",
    "number_1=0\n",
    "for i in range(N-1):\n",
    "    mod = a**i % N\n",
    "    counter +=1\n",
    "    #print(mod,counter)\n",
    "    if mod == 1:\n",
    "        number_1 +=1\n",
    "    if mod == 1 and number_1 >=3:\n",
    "        period = int((counter+1)/2) -1\n",
    "        break\n",
    "        \n",
    "        \n",
    "print('period:', period)"
   ]
  },
  {
   "cell_type": "markdown",
   "metadata": {},
   "source": [
    "### Period has to be small, as computer cannot work with huge periods, which ofc Quantum computers wouldn't have problem"
   ]
  },
  {
   "cell_type": "markdown",
   "metadata": {},
   "source": [
    "### The period has to be even"
   ]
  },
  {
   "cell_type": "code",
   "execution_count": 62,
   "metadata": {},
   "outputs": [
    {
     "name": "stdout",
     "output_type": "stream",
     "text": [
      "3 is not even\n"
     ]
    }
   ],
   "source": [
    "#check if period is even\n",
    "if period % 2 != 0:\n",
    "    print(period,'is not even')\n",
    "else:\n",
    "    print(period,'is even')"
   ]
  },
  {
   "cell_type": "markdown",
   "metadata": {},
   "source": [
    "### check a**(period/2)+1 : 0 mod N\n",
    "#### Why the period has to be small"
   ]
  },
  {
   "cell_type": "code",
   "execution_count": 65,
   "metadata": {},
   "outputs": [
    {
     "name": "stdout",
     "output_type": "stream",
     "text": [
      "condition satisfied\n"
     ]
    }
   ],
   "source": [
    "#check a**(period/2)+1 : 0 mod N\n",
    "if a**(period/2)+1 == 0:\n",
    "    print('condition not satisfied')\n",
    "else:\n",
    "    print('condition satisfied')"
   ]
  },
  {
   "cell_type": "code",
   "execution_count": 66,
   "metadata": {},
   "outputs": [
    {
     "name": "stdout",
     "output_type": "stream",
     "text": [
      "27 11\n"
     ]
    }
   ],
   "source": [
    "#(a**(period/2)-1)*(a**(period/2)+1)\n",
    "x1 = math.gcd(int(a**(period/2)-1), N)\n",
    "\n",
    "x2 = math.gcd(int(a**(period/2)+1), N)\n",
    "\n",
    "print(x1,x2)"
   ]
  },
  {
   "cell_type": "markdown",
   "metadata": {},
   "source": [
    "### Using a loop as number with large periods cannot be computed using classical computers..\n",
    "#### So we have to keep iterating through the random number generator, until we get a number with a smaller period"
   ]
  },
  {
   "cell_type": "code",
   "execution_count": 92,
   "metadata": {},
   "outputs": [
    {
     "name": "stdout",
     "output_type": "stream",
     "text": [
      "1711\n"
     ]
    }
   ],
   "source": [
    "p = 59\n",
    "q = 29\n",
    "N = p * q\n",
    "print(N)"
   ]
  },
  {
   "cell_type": "code",
   "execution_count": 93,
   "metadata": {},
   "outputs": [
    {
     "name": "stdout",
     "output_type": "stream",
     "text": [
      "549 812\n",
      "1528 203\n",
      "1256 406\n",
      "1020 406\n",
      "755 58\n",
      "1313 812\n",
      "605 203\n",
      "867 812\n",
      "1269 406\n",
      "1172 116\n",
      "511 812\n",
      "1262 812\n",
      "529 203\n",
      "1302 812\n",
      "835 203\n",
      "1641 116\n",
      "385 812\n",
      "980 203\n",
      "1630 406\n",
      "1320 812\n",
      "1069 203\n",
      "1492 406\n",
      "390 406\n",
      "1544 406\n",
      "848 203\n",
      "265 406\n",
      "158 406\n",
      "1577 812\n",
      "535 406\n",
      "1038 203\n",
      "810 812\n",
      "1017 812\n",
      "712 203\n",
      "255 203\n",
      "1698 203\n",
      "267 406\n",
      "808 203\n",
      "90 812\n",
      "67 406\n",
      "578 812\n",
      "896 812\n",
      "1512 406\n",
      "11 812\n",
      "461 812\n",
      "1320 812\n",
      "963 406\n",
      "212 406\n",
      "367 812\n",
      "1438 116\n",
      "1119 116\n",
      "814 812\n",
      "511 812\n",
      "73 812\n",
      "1136 406\n",
      "1599 406\n",
      "1482 812\n",
      "1488 406\n",
      "281 203\n",
      "1468 812\n",
      "809 812\n",
      "577 812\n",
      "268 406\n",
      "740 812\n",
      "457 406\n",
      "1215 812\n",
      "1636 116\n",
      "755 58\n",
      "1279 812\n",
      "61 812\n",
      "1174 812\n",
      "515 406\n",
      "1396 406\n",
      "449 812\n",
      "259 812\n",
      "1082 406\n",
      "1067 203\n",
      "1459 406\n",
      "987 58\n",
      "188 812\n",
      "1146 812\n",
      "859 812\n",
      "806 406\n",
      "1635 812\n",
      "1146 812\n",
      "538 203\n",
      "1106 406\n",
      "308 812\n",
      "602 406\n",
      "432 812\n",
      "436 58\n",
      "314 203\n",
      "1415 14\n",
      "479 812\n",
      "1311 406\n",
      "952 406\n",
      "866 406\n",
      "1701 812\n",
      "100 406\n",
      "1371 812\n",
      "903 406\n",
      "591 28\n",
      "862 812\n",
      "578 812\n",
      "1144 406\n",
      "1641 116\n",
      "991 406\n",
      "270 406\n",
      "1562 203\n",
      "134 812\n",
      "1021 406\n",
      "1061 4\n",
      "The two factors of 1711 are 59,29\n"
     ]
    }
   ],
   "source": [
    "g=0\n",
    "\n",
    "while g!=1:\n",
    "\n",
    "    a = random.randint(1,N)\n",
    "    #print(a)\n",
    "\n",
    "    g = math.gcd(a,N)\n",
    "    if g == 1:\n",
    "        #Compute the period of a mod N\n",
    "        counter = 0\n",
    "        period = 0\n",
    "        number_1=0\n",
    "        for i in range(N-1):\n",
    "            mod = a**i % N\n",
    "            counter +=1\n",
    "            #print(mod,counter)\n",
    "            if mod == 1:\n",
    "                number_1 +=1\n",
    "            if mod == 1 and number_1 >=3:\n",
    "                period = int((counter+1)/2) -1\n",
    "                break\n",
    "        print(a,period)\n",
    "        if period < 10 and period %2 == 0:\n",
    "            x1 = math.gcd(int(a**(period/2)-1), N)\n",
    "\n",
    "            x2 = math.gcd(int(a**(period/2)+1), N)\n",
    "\n",
    "            print('The two factors of {} are {},{}'.format(N,x1,x2))\n",
    "\n",
    "\n",
    "        else:\n",
    "            g=0\n",
    "            continue\n",
    "\n",
    "    else:\n",
    "        g=0"
   ]
  },
  {
   "cell_type": "code",
   "execution_count": null,
   "metadata": {},
   "outputs": [],
   "source": []
  }
 ],
 "metadata": {
  "kernelspec": {
   "display_name": "Python 3",
   "language": "python",
   "name": "python3"
  },
  "language_info": {
   "codemirror_mode": {
    "name": "ipython",
    "version": 3
   },
   "file_extension": ".py",
   "mimetype": "text/x-python",
   "name": "python",
   "nbconvert_exporter": "python",
   "pygments_lexer": "ipython3",
   "version": "3.7.2"
  }
 },
 "nbformat": 4,
 "nbformat_minor": 2
}
