{
  "cells": [
    {
      "cell_type": "code",
      "execution_count": 1,
      "metadata": {
        "id": "LUiUe8XqswfU"
      },
      "outputs": [],
      "source": [
        "import numpy as np\n",
        "import random\n",
        "import math"
      ]
    },
    {
      "cell_type": "markdown",
      "metadata": {
        "id": "ahQ8_JVoswfY"
      },
      "source": [
        "### 1\n",
        "##### Select two numbers P and Q (both should be Prime) or select one number 'N', whose factors(two prime numers) we have to find"
      ]
    },
    {
      "cell_type": "code",
      "execution_count": 2,
      "metadata": {
        "colab": {
          "base_uri": "https://localhost:8080/"
        },
        "id": "JxUaKOmHswfZ",
        "outputId": "540a9452-640c-4852-de46-508245de8646"
      },
      "outputs": [
        {
          "output_type": "stream",
          "name": "stdout",
          "text": [
            "253\n"
          ]
        }
      ],
      "source": [
        "p = 11\n",
        "q = 23\n",
        "N = p * q\n",
        "print(N)"
      ]
    },
    {
      "cell_type": "markdown",
      "metadata": {
        "id": "-SHGAXfgswfa"
      },
      "source": [
        "#### If  p & q is selected, and they're prime numbers, then N, should have only those two numbers as its factor.."
      ]
    },
    {
      "cell_type": "markdown",
      "metadata": {
        "id": "gz3zFp70swfb"
      },
      "source": [
        "\n",
        "#### 2. Select a random number 'a' between 1 & N."
      ]
    },
    {
      "cell_type": "code",
      "execution_count": 3,
      "metadata": {
        "colab": {
          "base_uri": "https://localhost:8080/"
        },
        "id": "7Hz6V3Gjswfb",
        "outputId": "6bdc1597-8ffb-45c4-9bb8-586e19b4a204"
      },
      "outputs": [
        {
          "output_type": "stream",
          "name": "stdout",
          "text": [
            "170\n"
          ]
        }
      ],
      "source": [
        "a = random.randint(1,N)\n",
        "print(a)"
      ]
    },
    {
      "cell_type": "markdown",
      "metadata": {
        "id": "QqgWVm9Dswfb"
      },
      "source": [
        "#### 3. If we find the Greatest common denominator(GCD), between 'a'  and 'N' to be other than 1, then we have found one of the factors of N, otherwise 'a' is a good choice for further process.."
      ]
    },
    {
      "cell_type": "code",
      "execution_count": 4,
      "metadata": {
        "colab": {
          "base_uri": "https://localhost:8080/"
        },
        "id": "VyqinRCfswfc",
        "outputId": "5510d597-6f8a-4a47-8141-c33bd3940acb"
      },
      "outputs": [
        {
          "output_type": "stream",
          "name": "stdout",
          "text": [
            "GCD: 1\n",
            "No common factors between 253 and 170\n"
          ]
        }
      ],
      "source": [
        "g = math.gcd(a,N)\n",
        "print('GCD:', g)\n",
        "if g != 1:\n",
        "    print('One of the Factor of N is', g)\n",
        "else:\n",
        "    print('No common factors between {} and {}'.format(N,a))"
      ]
    },
    {
      "cell_type": "markdown",
      "metadata": {
        "id": "Gtv3ncWuswfc"
      },
      "source": [
        "### Find period between of a mod N\n",
        "\n",
        "### This is where Quantum Computing comes in"
      ]
    },
    {
      "cell_type": "code",
      "execution_count": 5,
      "metadata": {
        "colab": {
          "base_uri": "https://localhost:8080/"
        },
        "id": "dVdu5DMvswfd",
        "outputId": "23057c6f-bb52-4ab6-af6d-4a5b75e4bdb6"
      },
      "outputs": [
        {
          "output_type": "stream",
          "name": "stdout",
          "text": [
            "period: 55\n"
          ]
        }
      ],
      "source": [
        "#Compute the period of a mod N\n",
        "counter = 0\n",
        "period = 0\n",
        "number_1=0\n",
        "for i in range(N-1):\n",
        "    mod = a**i % N\n",
        "    counter +=1\n",
        "    #print(mod,counter)\n",
        "    if mod == 1:\n",
        "        number_1 +=1\n",
        "    if mod == 1 and number_1 >=3:\n",
        "        period = int((counter+1)/2) -1\n",
        "        break\n",
        "        \n",
        "        \n",
        "print('period:', period)"
      ]
    },
    {
      "cell_type": "markdown",
      "metadata": {
        "id": "WyC9QVuLswfd"
      },
      "source": [
        "### Period has to be small, as computer cannot work with huge periods, which ofc Quantum computers wouldn't have problem"
      ]
    },
    {
      "cell_type": "markdown",
      "metadata": {
        "id": "M9wfTydiswfe"
      },
      "source": [
        "### The period has to be even"
      ]
    },
    {
      "cell_type": "code",
      "execution_count": 6,
      "metadata": {
        "colab": {
          "base_uri": "https://localhost:8080/"
        },
        "id": "7a7I0zJcswfe",
        "outputId": "ac2da34f-e0dd-4acd-c189-6cf07178541f"
      },
      "outputs": [
        {
          "output_type": "stream",
          "name": "stdout",
          "text": [
            "55 is not even\n"
          ]
        }
      ],
      "source": [
        "#check if period is even\n",
        "if period % 2 != 0:\n",
        "    print(period,'is not even')\n",
        "else:\n",
        "    print(period,'is even')"
      ]
    },
    {
      "cell_type": "markdown",
      "metadata": {
        "id": "dNM7hstxswfe"
      },
      "source": [
        "### check a**(period/2)+1 : 0 mod N\n",
        "#### Why the period has to be small"
      ]
    },
    {
      "cell_type": "code",
      "execution_count": 7,
      "metadata": {
        "colab": {
          "base_uri": "https://localhost:8080/"
        },
        "id": "gs3IPf2Lswfe",
        "outputId": "cc61cb5f-2aa2-4bf3-b71f-1da296d112e9"
      },
      "outputs": [
        {
          "output_type": "stream",
          "name": "stdout",
          "text": [
            "condition satisfied\n"
          ]
        }
      ],
      "source": [
        "#check a**(period/2)+1 : 0 mod N\n",
        "if a**(period/2)+1 == 0:\n",
        "    print('condition not satisfied')\n",
        "else:\n",
        "    print('condition satisfied')"
      ]
    },
    {
      "cell_type": "code",
      "execution_count": 8,
      "metadata": {
        "colab": {
          "base_uri": "https://localhost:8080/"
        },
        "id": "ZNlUr01Kswff",
        "outputId": "03306f90-0ecd-4d9b-9ba7-af40c23b7224"
      },
      "outputs": [
        {
          "output_type": "stream",
          "name": "stdout",
          "text": [
            "1 1\n"
          ]
        }
      ],
      "source": [
        "#(a**(period/2)-1)*(a**(period/2)+1)\n",
        "x1 = math.gcd(int(a**(period/2)-1), N)\n",
        "\n",
        "x2 = math.gcd(int(a**(period/2)+1), N)\n",
        "\n",
        "print(x1,x2)"
      ]
    },
    {
      "cell_type": "markdown",
      "metadata": {
        "id": "kpaQjLCBswff"
      },
      "source": [
        "### Using a loop as number with large periods cannot be computed using classical computers..\n",
        "#### So we have to keep iterating through the random number generator, until we get a number with a smaller period"
      ]
    },
    {
      "cell_type": "code",
      "execution_count": 9,
      "metadata": {
        "colab": {
          "base_uri": "https://localhost:8080/"
        },
        "id": "bf9_NUyXswff",
        "outputId": "a2bb52de-21c2-462d-9076-b740179cba7b"
      },
      "outputs": [
        {
          "output_type": "stream",
          "name": "stdout",
          "text": [
            "1711\n"
          ]
        }
      ],
      "source": [
        "p = 59\n",
        "q = 29\n",
        "N = p * q\n",
        "print(N)"
      ]
    },
    {
      "cell_type": "code",
      "execution_count": 10,
      "metadata": {
        "colab": {
          "base_uri": "https://localhost:8080/"
        },
        "id": "_yTY56exswfg",
        "outputId": "00e214f8-1cc4-45a7-e80e-58ea6b9f24ef"
      },
      "outputs": [
        {
          "output_type": "stream",
          "name": "stdout",
          "text": [
            "156 812\n",
            "838 812\n",
            "518 203\n",
            "1340 406\n",
            "1269 406\n",
            "416 812\n",
            "32 812\n",
            "318 58\n",
            "1355 812\n",
            "323 406\n",
            "430 203\n",
            "1255 812\n",
            "554 812\n",
            "579 58\n",
            "1260 406\n",
            "879 406\n",
            "788 406\n",
            "1406 812\n",
            "1352 812\n",
            "450 812\n",
            "743 812\n",
            "1478 58\n",
            "142 812\n",
            "619 812\n",
            "268 406\n",
            "135 812\n",
            "945 4\n",
            "The two factors of 1711 are 59,29\n"
          ]
        }
      ],
      "source": [
        "g=0\n",
        "\n",
        "while g!=1:\n",
        "\n",
        "    a = random.randint(1,N)\n",
        "    #print(a)\n",
        "\n",
        "    g = math.gcd(a,N)\n",
        "    if g == 1:\n",
        "        #Compute the period of a mod N\n",
        "        counter = 0\n",
        "        period = 0\n",
        "        number_1=0\n",
        "        for i in range(N-1):\n",
        "            mod = a**i % N\n",
        "            counter +=1\n",
        "            #print(mod,counter)\n",
        "            if mod == 1:\n",
        "                number_1 +=1\n",
        "            if mod == 1 and number_1 >=3:\n",
        "                period = int((counter+1)/2) -1\n",
        "                break\n",
        "        print(a,period)\n",
        "        if period < 10 and period %2 == 0:\n",
        "            x1 = math.gcd(int(a**(period/2)-1), N)\n",
        "\n",
        "            x2 = math.gcd(int(a**(period/2)+1), N)\n",
        "\n",
        "            print('The two factors of {} are {},{}'.format(N,x1,x2))\n",
        "\n",
        "\n",
        "        else:\n",
        "            g=0\n",
        "            continue\n",
        "\n",
        "    else:\n",
        "        g=0"
      ]
    },
    {
      "cell_type": "code",
      "execution_count": null,
      "metadata": {
        "id": "_tjUxIj2swfg"
      },
      "outputs": [],
      "source": []
    }
  ],
  "metadata": {
    "kernelspec": {
      "display_name": "Python 3",
      "language": "python",
      "name": "python3"
    },
    "language_info": {
      "codemirror_mode": {
        "name": "ipython",
        "version": 3
      },
      "file_extension": ".py",
      "mimetype": "text/x-python",
      "name": "python",
      "nbconvert_exporter": "python",
      "pygments_lexer": "ipython3",
      "version": "3.7.2"
    },
    "colab": {
      "provenance": []
    }
  },
  "nbformat": 4,
  "nbformat_minor": 0
}