{
  "cells": [
    {
      "cell_type": "code",
      "execution_count": 1,
      "metadata": {
        "id": "LUiUe8XqswfU"
      },
      "outputs": [],
      "source": [
        "import numpy as np\n",
        "import random\n",
        "import math"
      ]
    },
    {
      "cell_type": "markdown",
      "metadata": {
        "id": "ahQ8_JVoswfY"
      },
      "source": [
        "### 1\n",
        "##### Select two numbers P and Q (both should be Prime) or select one number 'N', whose factors(two prime numers) we have to find"
      ]
    },
    {
      "cell_type": "code",
      "execution_count": 12,
      "metadata": {
        "colab": {
          "base_uri": "https://localhost:8080/"
        },
        "id": "JxUaKOmHswfZ",
        "outputId": "a7f48331-2ff6-4882-8961-c7d38cae50b6"
      },
      "outputs": [
        {
          "output_type": "stream",
          "name": "stdout",
          "text": [
            "377\n"
          ]
        }
      ],
      "source": [
        "p = 13\n",
        "q = 29\n",
        "N = p * q\n",
        "print(N)"
      ]
    },
    {
      "cell_type": "markdown",
      "metadata": {
        "id": "-SHGAXfgswfa"
      },
      "source": [
        "#### If  p & q is selected, and they're prime numbers, then N, should have only those two numbers as its factor.."
      ]
    },
    {
      "cell_type": "markdown",
      "metadata": {
        "id": "gz3zFp70swfb"
      },
      "source": [
        "\n",
        "#### 2. Select a random number 'a' between 1 & N."
      ]
    },
    {
      "cell_type": "code",
      "execution_count": 3,
      "metadata": {
        "colab": {
          "base_uri": "https://localhost:8080/"
        },
        "id": "7Hz6V3Gjswfb",
        "outputId": "6bdc1597-8ffb-45c4-9bb8-586e19b4a204"
      },
      "outputs": [
        {
          "output_type": "stream",
          "name": "stdout",
          "text": [
            "170\n"
          ]
        }
      ],
      "source": [
        "a = random.randint(1,N)\n",
        "print(a)"
      ]
    },
    {
      "cell_type": "code",
      "source": [
        "a=212"
      ],
      "metadata": {
        "id": "D2zQdRe-yDbJ"
      },
      "execution_count": 13,
      "outputs": []
    },
    {
      "cell_type": "markdown",
      "metadata": {
        "id": "QqgWVm9Dswfb"
      },
      "source": [
        "#### 3. If we find the Greatest common denominator(GCD), between 'a'  and 'N' to be other than 1, then we have found one of the factors of N, otherwise 'a' is a good choice for further process.."
      ]
    },
    {
      "cell_type": "code",
      "execution_count": 14,
      "metadata": {
        "colab": {
          "base_uri": "https://localhost:8080/"
        },
        "id": "VyqinRCfswfc",
        "outputId": "54098047-f258-4fa0-cebb-0d1933269ae4"
      },
      "outputs": [
        {
          "output_type": "stream",
          "name": "stdout",
          "text": [
            "GCD: 1\n",
            "No common factors between 377 and 212\n"
          ]
        }
      ],
      "source": [
        "g = math.gcd(a,N)\n",
        "print('GCD:', g)\n",
        "if g != 1:\n",
        "    print('One of the Factor of N is', g)\n",
        "else:\n",
        "    print('No common factors between {} and {}'.format(N,a))"
      ]
    },
    {
      "cell_type": "markdown",
      "metadata": {
        "id": "Gtv3ncWuswfc"
      },
      "source": [
        "### Find period between a mod N\n",
        "\n",
        "### This is where Quantum Computing comes in"
      ]
    },
    {
      "cell_type": "code",
      "execution_count": 22,
      "metadata": {
        "colab": {
          "base_uri": "https://localhost:8080/"
        },
        "id": "dVdu5DMvswfd",
        "outputId": "7b8727d2-1d8a-4f98-d5a0-44c5e2ed5ad4"
      },
      "outputs": [
        {
          "output_type": "stream",
          "name": "stdout",
          "text": [
            "0 1 1\n",
            "1 212 2\n",
            "2 81 3\n",
            "3 207 4\n",
            "4 152 5\n",
            "5 179 6\n",
            "6 248 7\n",
            "7 173 8\n",
            "8 107 9\n",
            "9 64 10\n",
            "10 373 11\n",
            "11 283 12\n",
            "12 53 13\n",
            "13 303 14\n",
            "14 146 15\n",
            "15 38 16\n",
            "16 139 17\n",
            "17 62 18\n",
            "18 326 19\n",
            "19 121 20\n",
            "20 16 21\n",
            "21 376 22\n",
            "22 165 23\n",
            "23 296 24\n",
            "24 170 25\n",
            "25 225 26\n",
            "26 198 27\n",
            "27 129 28\n",
            "28 204 29\n",
            "29 270 30\n",
            "30 313 31\n",
            "31 4 32\n",
            "32 94 33\n",
            "33 324 34\n",
            "34 74 35\n",
            "35 231 36\n",
            "36 339 37\n",
            "37 238 38\n",
            "38 315 39\n",
            "39 51 40\n",
            "40 256 41\n",
            "41 361 42\n",
            "42 1 43\n",
            "43 212 44\n",
            "44 81 45\n",
            "45 207 46\n",
            "46 152 47\n",
            "47 179 48\n",
            "48 248 49\n",
            "49 173 50\n",
            "50 107 51\n",
            "51 64 52\n",
            "52 373 53\n",
            "53 283 54\n",
            "54 53 55\n",
            "55 303 56\n",
            "56 146 57\n",
            "57 38 58\n",
            "58 139 59\n",
            "59 62 60\n",
            "60 326 61\n",
            "61 121 62\n",
            "62 16 63\n",
            "63 376 64\n",
            "64 165 65\n",
            "65 296 66\n",
            "66 170 67\n",
            "67 225 68\n",
            "68 198 69\n",
            "69 129 70\n",
            "70 204 71\n",
            "71 270 72\n",
            "72 313 73\n",
            "73 4 74\n",
            "74 94 75\n",
            "75 324 76\n",
            "76 74 77\n",
            "77 231 78\n",
            "78 339 79\n",
            "79 238 80\n",
            "80 315 81\n",
            "81 51 82\n",
            "82 256 83\n",
            "83 361 84\n",
            "84 1 85\n",
            "period: 42\n"
          ]
        }
      ],
      "source": [
        "#Compute the period of a mod N\n",
        "counter = 0\n",
        "period = 0\n",
        "number_1=0\n",
        "for i in range(N-1):\n",
        "    mod = (a**i) % N\n",
        "    counter +=1\n",
        "    print(i,mod,counter)\n",
        "    if mod == 1:\n",
        "      number_1 +=1\n",
        "      if number_1 >=3:\n",
        "        period = int((counter+1)/2) -1\n",
        "        break\n",
        "        \n",
        "        \n",
        "print('period:', period)"
      ]
    },
    {
      "cell_type": "markdown",
      "metadata": {
        "id": "WyC9QVuLswfd"
      },
      "source": [
        "### Period has to be small, as computer cannot work with huge periods, which ofc Quantum computers wouldn't have problem"
      ]
    },
    {
      "cell_type": "markdown",
      "metadata": {
        "id": "M9wfTydiswfe"
      },
      "source": [
        "### The period has to be even"
      ]
    },
    {
      "cell_type": "code",
      "execution_count": 16,
      "metadata": {
        "colab": {
          "base_uri": "https://localhost:8080/"
        },
        "id": "7a7I0zJcswfe",
        "outputId": "182c0ff0-b688-46f0-9b7f-d6b135edd061"
      },
      "outputs": [
        {
          "output_type": "stream",
          "name": "stdout",
          "text": [
            "42 is even\n"
          ]
        }
      ],
      "source": [
        "#check if period is even\n",
        "if period % 2 != 0:\n",
        "    print(period,'is not even')\n",
        "else:\n",
        "    print(period,'is even')"
      ]
    },
    {
      "cell_type": "markdown",
      "metadata": {
        "id": "dNM7hstxswfe"
      },
      "source": [
        "### check a**(period/2)+1 : 0 mod N\n",
        "#### Why the period has to be small"
      ]
    },
    {
      "cell_type": "code",
      "source": [
        "a**(period/2)"
      ],
      "metadata": {
        "colab": {
          "base_uri": "https://localhost:8080/"
        },
        "id": "UP9xYsTTO7ml",
        "outputId": "2583fab3-97d8-4842-d85a-bd8fd9d5286f"
      },
      "execution_count": 23,
      "outputs": [
        {
          "output_type": "execute_result",
          "data": {
            "text/plain": [
              "7.129401604011439e+48"
            ]
          },
          "metadata": {},
          "execution_count": 23
        }
      ]
    },
    {
      "cell_type": "code",
      "execution_count": 7,
      "metadata": {
        "colab": {
          "base_uri": "https://localhost:8080/"
        },
        "id": "gs3IPf2Lswfe",
        "outputId": "cc61cb5f-2aa2-4bf3-b71f-1da296d112e9"
      },
      "outputs": [
        {
          "output_type": "stream",
          "name": "stdout",
          "text": [
            "condition satisfied\n"
          ]
        }
      ],
      "source": [
        "#check a**(period/2)+1 : 0 mod N\n",
        "if a**(period/2)+1 == 0:\n",
        "    print('condition not satisfied')\n",
        "else:\n",
        "    print('condition satisfied')"
      ]
    },
    {
      "cell_type": "code",
      "execution_count": 8,
      "metadata": {
        "colab": {
          "base_uri": "https://localhost:8080/"
        },
        "id": "ZNlUr01Kswff",
        "outputId": "03306f90-0ecd-4d9b-9ba7-af40c23b7224"
      },
      "outputs": [
        {
          "output_type": "stream",
          "name": "stdout",
          "text": [
            "1 1\n"
          ]
        }
      ],
      "source": [
        "#(a**(period/2)-1)*(a**(period/2)+1)\n",
        "x1 = math.gcd(int(a**(period/2)-1), N)\n",
        "\n",
        "x2 = math.gcd(int(a**(period/2)+1), N)\n",
        "\n",
        "print(x1,x2)"
      ]
    },
    {
      "cell_type": "markdown",
      "metadata": {
        "id": "kpaQjLCBswff"
      },
      "source": [
        "### Using a loop as number with large periods cannot be computed using classical computers..\n",
        "#### So we have to keep iterating through the random number generator, until we get a number with a smaller period"
      ]
    },
    {
      "cell_type": "code",
      "execution_count": 29,
      "metadata": {
        "colab": {
          "base_uri": "https://localhost:8080/"
        },
        "id": "bf9_NUyXswff",
        "outputId": "89292b59-00b4-4cf9-8d29-1ffda195a5e1"
      },
      "outputs": [
        {
          "output_type": "stream",
          "name": "stdout",
          "text": [
            "221\n"
          ]
        }
      ],
      "source": [
        "p = 13\n",
        "q = 17\n",
        "N = p * q\n",
        "print(N)"
      ]
    },
    {
      "cell_type": "code",
      "execution_count": 30,
      "metadata": {
        "colab": {
          "base_uri": "https://localhost:8080/"
        },
        "id": "_yTY56exswfg",
        "outputId": "eac53b7e-e155-448c-d979-63b2e13fdf79"
      },
      "outputs": [
        {
          "output_type": "stream",
          "name": "stdout",
          "text": [
            "The two factors of 221 are 17,13\n"
          ]
        }
      ],
      "source": [
        "g=0\n",
        "\n",
        "while g!=1:\n",
        "\n",
        "    a = random.randint(1,N)\n",
        "    #print(a)\n",
        "\n",
        "    g = math.gcd(a,N)\n",
        "    if g == 1:\n",
        "        #Compute the period of a mod N\n",
        "        counter = 0\n",
        "        period = 0\n",
        "        number_1=0\n",
        "        for i in range(N-1):\n",
        "            mod = a**i % N\n",
        "            counter +=1\n",
        "            #print(mod,counter)\n",
        "            if mod == 1:\n",
        "              number_1 +=1\n",
        "              if number_1 >=3:\n",
        "                period = int((counter+1)/2) -1\n",
        "                break\n",
        "        # print(a,period)\n",
        "        if period < 10 and period %2 == 0:\n",
        "            x1 = math.gcd(int(a**(period/2)-1), N)\n",
        "\n",
        "            x2 = math.gcd(int(a**(period/2)+1), N)\n",
        "\n",
        "            print('The two factors of {} are {},{}'.format(N,x1,x2))\n",
        "\n",
        "\n",
        "        else:\n",
        "            g=0\n",
        "            continue\n",
        "\n",
        "    else:\n",
        "        g=0"
      ]
    },
    {
      "cell_type": "code",
      "execution_count": null,
      "metadata": {
        "id": "_tjUxIj2swfg"
      },
      "outputs": [],
      "source": []
    }
  ],
  "metadata": {
    "kernelspec": {
      "display_name": "Python 3",
      "language": "python",
      "name": "python3"
    },
    "language_info": {
      "codemirror_mode": {
        "name": "ipython",
        "version": 3
      },
      "file_extension": ".py",
      "mimetype": "text/x-python",
      "name": "python",
      "nbconvert_exporter": "python",
      "pygments_lexer": "ipython3",
      "version": "3.7.2"
    },
    "colab": {
      "provenance": []
    }
  },
  "nbformat": 4,
  "nbformat_minor": 0
}